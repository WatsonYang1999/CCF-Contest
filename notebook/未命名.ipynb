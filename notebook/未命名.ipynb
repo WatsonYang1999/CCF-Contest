{
 "cells": [
  {
   "cell_type": "code",
   "execution_count": 1,
   "metadata": {},
   "outputs": [
    {
     "name": "stdout",
     "output_type": "stream",
     "text": [
      "          Parameter1    Parameter2     Parameter3     Parameter4  \\\n",
      "count    6000.000000  6.000000e+03    6000.000000    6000.000000   \n",
      "mean      485.198954  1.952379e+03     406.348529     189.205842   \n",
      "std     11401.971393  5.419588e+04   12018.898941    2621.779049   \n",
      "min         0.000003  1.683797e-07       0.000005       0.000002   \n",
      "25%         0.088221  4.765771e-02       0.102304       0.118314   \n",
      "50%         1.050304  9.405962e-01       1.044908       1.068467   \n",
      "75%        10.938565  1.569199e+01      10.665397       9.902064   \n",
      "max    713682.207601  3.034568e+06  864530.632179  139767.494732   \n",
      "\n",
      "         Parameter5    Parameter6    Parameter7    Parameter8    Parameter9  \\\n",
      "count  6.000000e+03  6.000000e+03   6000.000000   6000.000000  6.000000e+03   \n",
      "mean   5.868163e+00  5.598597e+00    272.300821     22.133231  5.823664e+04   \n",
      "std    8.631865e+00  7.686898e+00   2027.460514    302.172768  3.173068e+06   \n",
      "min    9.985942e-07  9.810610e-07      0.000624      0.023699  3.962831e-04   \n",
      "25%    7.416296e-01  3.818154e-01      0.152059      0.035407  5.930812e-01   \n",
      "50%    2.225808e+00  2.684398e+00      0.600827      2.931083  5.930812e-01   \n",
      "75%    6.680183e+00  7.117767e+00      2.374035     17.850021  6.783967e+00   \n",
      "max    8.367195e+01  4.117541e+01  35698.591553  20086.397753  1.738083e+08   \n",
      "\n",
      "       Parameter10  \n",
      "count  6000.000000  \n",
      "mean     35.902066  \n",
      "std     101.629348  \n",
      "min       0.001024  \n",
      "25%       0.101478  \n",
      "50%       0.727611  \n",
      "75%      13.969790  \n",
      "max     517.197610  \n",
      "Index(['Parameter1', 'Parameter2', 'Parameter3', 'Parameter4', 'Parameter5',\n",
      "       'Parameter6', 'Parameter7', 'Parameter8', 'Parameter9', 'Parameter10'],\n",
      "      dtype='object')\n",
      "Index(['Parameter1', 'Parameter2', 'Parameter3', 'Parameter4', 'Parameter5',\n",
      "       'Parameter6', 'Parameter7', 'Parameter8', 'Parameter9', 'Parameter10'],\n",
      "      dtype='object')\n"
     ]
    }
   ],
   "source": [
    "import numpy as np\n",
    "import pandas as pd\n",
    "import  matplotlib.pyplot as plt\n",
    "%matplotlib inline\n",
    "\n",
    "df = pd.read_csv(\"../data/first_round_training_data.csv\")\n",
    "df_test = pd.read_csv(\"../data/first_round_testing_data.csv\")\n",
    "\n",
    "quality_map = {\"Fail\":3,\"Pass\":2,\"Good\":1,'Excellent':0}\n",
    "df[\"Quality_label\"] = df[\"Quality_label\"].map(quality_map)\n",
    "df_train = df.iloc[:,0:10]\n",
    "print(df_train.describe())\n",
    "Y_train = df[\"Quality_label\"].to_numpy()\n",
    "#X_train = df[:,\"Parameter1\":\"Parameter10\"]\n",
    "#print(X_train.shape)\n",
    "para10 = df_test.pop(\"Parameter10\")\n",
    "df_test[\"Parameter10\"] = para10\n",
    "test_group = df_test.pop(\"Group\")\n",
    "print(df_test.columns)\n",
    "print(df_train.columns)\n",
    "\n",
    "df_total = pd.concat([df_train,df_test])\n",
    "\n",
    "total = df_total.to_numpy()\n",
    "\n",
    "e = total.mean(axis=0)\n",
    "s = total.std(axis=0)\n",
    "total = (total-e) / s\n",
    "\n",
    "X_train = total[0:6000, :]\n",
    "X_test = total[6000:, :]\n"
   ]
  },
  {
   "cell_type": "code",
   "execution_count": 11,
   "metadata": {},
   "outputs": [
    {
     "data": {
      "image/png": "[encoded data removed]",
      "text/plain": [
       "<Figure size 432x288 with 1 Axes>"
      ]
     },
     "metadata": {
      "needs_background": "light"
     },
     "output_type": "display_data"
    }
   ],
   "source": [
    "import seaborn as sns\n",
    "\n",
    "plt.plot(X_train[:,1],Y_train,'ro')\n",
    "plt.show()\n"
   ]
  },
  {
   "cell_type": "code",
   "execution_count": 12,
   "metadata": {},
   "outputs": [
    {
     "data": {
      "text/plain": [
       "<matplotlib.axes._subplots.AxesSubplot at 0x1310000d0>"
      ]
     },
     "execution_count": 12,
     "metadata": {},
     "output_type": "execute_result"
    },
    {
     "data": {
      "image/png": "[encoded data removed]",
      "text/plain": [
       "<Figure size 432x288 with 1 Axes>"
      ]
     },
     "metadata": {
      "needs_background": "light"
     },
     "output_type": "display_data"
    }
   ],
   "source": [
    "data = pd.concat([df['Parameter1'],df['Quality_label']],axis = 1)\n",
    "data.plot.scatter(x=\"Parameter1\",y=\"Quality_label\")\n"
   ]
  },
  {
   "cell_type": "code",
   "execution_count": 14,
   "metadata": {},
   "outputs": [
    {
     "data": {
      "text/plain": [
       "<matplotlib.axes._subplots.AxesSubplot at 0x13122e510>"
      ]
     },
     "execution_count": 14,
     "metadata": {},
     "output_type": "execute_result"
    },
    {
     "data": {
      "image/png": "[encoded data removed]",
      "text/plain": [
       "<Figure size 432x288 with 1 Axes>"
      ]
     },
     "metadata": {
      "needs_background": "light"
     },
     "output_type": "display_data"
    }
   ],
   "source": [
    "sns.distplot(df['Parameter1'])\n"
   ]
  },
  {
   "cell_type": "code",
   "execution_count": 22,
   "metadata": {},
   "outputs": [
    {
     "name": "stdout",
     "output_type": "stream",
     "text": [
      "[2.98395473e-06 5.56480573e-06 5.86105874e-06 9.08060526e-06\n",
      " 9.40280427e-06 1.31932238e-05 1.81834789e-05 1.98399878e-05\n",
      " 2.02176460e-05 2.10664653e-05 2.24337316e-05 2.79709607e-05\n",
      " 4.01291262e-05 4.32511436e-05 4.36747981e-05 4.46072865e-05\n",
      " 4.83176093e-05 4.93698110e-05 5.27298403e-05 5.44908193e-05\n",
      " 6.28157353e-05 7.41765690e-05 7.68375006e-05 7.73068786e-05\n",
      " 8.40426576e-05 8.42084568e-05 8.62388375e-05 9.55437697e-05\n",
      " 1.08557670e-04 1.08606724e-04 1.14235841e-04 1.32573124e-04\n",
      " 1.32879541e-04 1.32923700e-04 1.40305591e-04 1.42680423e-04\n",
      " 1.59779070e-04 1.63618484e-04 1.72345323e-04 1.75402575e-04\n",
      " 1.77281149e-04 1.79722852e-04 1.80838752e-04 1.83459724e-04\n",
      " 1.84736598e-04 1.87188077e-04 1.97471694e-04 2.10373178e-04\n",
      " 2.19865297e-04 2.26159127e-04]\n",
      "[  5830.19464983   6451.2729292    6492.81208019   6561.62924224\n",
      "   6680.34367319   6768.32337999   6813.51997993   6869.15834071\n",
      "   7021.5155526    7183.55640961   7347.91955514   7353.23616137\n",
      "   7547.29331336   8139.09706664   9304.27690096   9495.29896644\n",
      "   9909.06265639  10341.86004268  10428.4187936   10743.61427865\n",
      "  11037.99670504  11233.78038014  11542.09603497  11686.60022144\n",
      "  12493.93867538  13100.28841388  13772.16790653  13854.11563485\n",
      "  14133.69817565  17567.44183992  18298.62216497  18325.7360909\n",
      "  19808.40702398  21653.18297443  22693.89093755  25765.83881266\n",
      "  25978.15226515  41228.48782903  45880.76422601  48159.91740088\n",
      "  49958.15807112  64326.04681624  75417.1653594   85181.80523917\n",
      "  87477.07462247  94627.44215976 119307.90716805 221798.3614639\n",
      " 398757.6827495  713682.20760098]\n"
     ]
    }
   ],
   "source": [
    "c = df['Parameter1']\n",
    "arr = c.to_numpy()\n",
    "type(c)\n",
    "arr.sort()\n",
    "print(arr[0:50])\n",
    "print(arr[-50:])\n"
   ]
  }
 ],
 "metadata": {
  "kernelspec": {
   "display_name": "Python 3",
   "language": "python",
   "name": "python3"
  },
  "language_info": {
   "codemirror_mode": {
    "name": "ipython",
    "version": 3
   },
   "file_extension": ".py",
   "mimetype": "text/x-python",
   "name": "python",
   "nbconvert_exporter": "python",
   "pygments_lexer": "ipython3",
   "version": "3.7.4"
  }
 },
 "nbformat": 4,
 "nbformat_minor": 2
}
